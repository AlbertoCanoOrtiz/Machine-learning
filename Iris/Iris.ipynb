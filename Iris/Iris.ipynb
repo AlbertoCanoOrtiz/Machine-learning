{
 "metadata": {
  "name": "",
  "signature": "sha256:e268f1bf970bc3406a1c9827d478979dbbb7a8af7e2ea60859a133507b2996d1"
 },
 "nbformat": 3,
 "nbformat_minor": 0,
 "worksheets": [
  {
   "cells": [
    {
     "cell_type": "code",
     "collapsed": false,
     "input": [
      "from sklearn import datasets\n",
      "iris = datasets.load_iris()\n",
      "X_iris, y_iris = iris.data, iris.target#conjunto de datos, caracteristicas -> x, clase -> y\n",
      "print X_iris.shape, y_iris.shape\n",
      "X_iris, y_iris"
     ],
     "language": "python",
     "metadata": {},
     "outputs": [
      {
       "output_type": "stream",
       "stream": "stdout",
       "text": [
        "(150, 4) (150,)\n"
       ]
      },
      {
       "metadata": {},
       "output_type": "pyout",
       "prompt_number": 10,
       "text": [
        "(array([[ 5.1,  3.5,  1.4,  0.2],\n",
        "        [ 4.9,  3. ,  1.4,  0.2],\n",
        "        [ 4.7,  3.2,  1.3,  0.2],\n",
        "        [ 4.6,  3.1,  1.5,  0.2],\n",
        "        [ 5. ,  3.6,  1.4,  0.2],\n",
        "        [ 5.4,  3.9,  1.7,  0.4],\n",
        "        [ 4.6,  3.4,  1.4,  0.3],\n",
        "        [ 5. ,  3.4,  1.5,  0.2],\n",
        "        [ 4.4,  2.9,  1.4,  0.2],\n",
        "        [ 4.9,  3.1,  1.5,  0.1],\n",
        "        [ 5.4,  3.7,  1.5,  0.2],\n",
        "        [ 4.8,  3.4,  1.6,  0.2],\n",
        "        [ 4.8,  3. ,  1.4,  0.1],\n",
        "        [ 4.3,  3. ,  1.1,  0.1],\n",
        "        [ 5.8,  4. ,  1.2,  0.2],\n",
        "        [ 5.7,  4.4,  1.5,  0.4],\n",
        "        [ 5.4,  3.9,  1.3,  0.4],\n",
        "        [ 5.1,  3.5,  1.4,  0.3],\n",
        "        [ 5.7,  3.8,  1.7,  0.3],\n",
        "        [ 5.1,  3.8,  1.5,  0.3],\n",
        "        [ 5.4,  3.4,  1.7,  0.2],\n",
        "        [ 5.1,  3.7,  1.5,  0.4],\n",
        "        [ 4.6,  3.6,  1. ,  0.2],\n",
        "        [ 5.1,  3.3,  1.7,  0.5],\n",
        "        [ 4.8,  3.4,  1.9,  0.2],\n",
        "        [ 5. ,  3. ,  1.6,  0.2],\n",
        "        [ 5. ,  3.4,  1.6,  0.4],\n",
        "        [ 5.2,  3.5,  1.5,  0.2],\n",
        "        [ 5.2,  3.4,  1.4,  0.2],\n",
        "        [ 4.7,  3.2,  1.6,  0.2],\n",
        "        [ 4.8,  3.1,  1.6,  0.2],\n",
        "        [ 5.4,  3.4,  1.5,  0.4],\n",
        "        [ 5.2,  4.1,  1.5,  0.1],\n",
        "        [ 5.5,  4.2,  1.4,  0.2],\n",
        "        [ 4.9,  3.1,  1.5,  0.1],\n",
        "        [ 5. ,  3.2,  1.2,  0.2],\n",
        "        [ 5.5,  3.5,  1.3,  0.2],\n",
        "        [ 4.9,  3.1,  1.5,  0.1],\n",
        "        [ 4.4,  3. ,  1.3,  0.2],\n",
        "        [ 5.1,  3.4,  1.5,  0.2],\n",
        "        [ 5. ,  3.5,  1.3,  0.3],\n",
        "        [ 4.5,  2.3,  1.3,  0.3],\n",
        "        [ 4.4,  3.2,  1.3,  0.2],\n",
        "        [ 5. ,  3.5,  1.6,  0.6],\n",
        "        [ 5.1,  3.8,  1.9,  0.4],\n",
        "        [ 4.8,  3. ,  1.4,  0.3],\n",
        "        [ 5.1,  3.8,  1.6,  0.2],\n",
        "        [ 4.6,  3.2,  1.4,  0.2],\n",
        "        [ 5.3,  3.7,  1.5,  0.2],\n",
        "        [ 5. ,  3.3,  1.4,  0.2],\n",
        "        [ 7. ,  3.2,  4.7,  1.4],\n",
        "        [ 6.4,  3.2,  4.5,  1.5],\n",
        "        [ 6.9,  3.1,  4.9,  1.5],\n",
        "        [ 5.5,  2.3,  4. ,  1.3],\n",
        "        [ 6.5,  2.8,  4.6,  1.5],\n",
        "        [ 5.7,  2.8,  4.5,  1.3],\n",
        "        [ 6.3,  3.3,  4.7,  1.6],\n",
        "        [ 4.9,  2.4,  3.3,  1. ],\n",
        "        [ 6.6,  2.9,  4.6,  1.3],\n",
        "        [ 5.2,  2.7,  3.9,  1.4],\n",
        "        [ 5. ,  2. ,  3.5,  1. ],\n",
        "        [ 5.9,  3. ,  4.2,  1.5],\n",
        "        [ 6. ,  2.2,  4. ,  1. ],\n",
        "        [ 6.1,  2.9,  4.7,  1.4],\n",
        "        [ 5.6,  2.9,  3.6,  1.3],\n",
        "        [ 6.7,  3.1,  4.4,  1.4],\n",
        "        [ 5.6,  3. ,  4.5,  1.5],\n",
        "        [ 5.8,  2.7,  4.1,  1. ],\n",
        "        [ 6.2,  2.2,  4.5,  1.5],\n",
        "        [ 5.6,  2.5,  3.9,  1.1],\n",
        "        [ 5.9,  3.2,  4.8,  1.8],\n",
        "        [ 6.1,  2.8,  4. ,  1.3],\n",
        "        [ 6.3,  2.5,  4.9,  1.5],\n",
        "        [ 6.1,  2.8,  4.7,  1.2],\n",
        "        [ 6.4,  2.9,  4.3,  1.3],\n",
        "        [ 6.6,  3. ,  4.4,  1.4],\n",
        "        [ 6.8,  2.8,  4.8,  1.4],\n",
        "        [ 6.7,  3. ,  5. ,  1.7],\n",
        "        [ 6. ,  2.9,  4.5,  1.5],\n",
        "        [ 5.7,  2.6,  3.5,  1. ],\n",
        "        [ 5.5,  2.4,  3.8,  1.1],\n",
        "        [ 5.5,  2.4,  3.7,  1. ],\n",
        "        [ 5.8,  2.7,  3.9,  1.2],\n",
        "        [ 6. ,  2.7,  5.1,  1.6],\n",
        "        [ 5.4,  3. ,  4.5,  1.5],\n",
        "        [ 6. ,  3.4,  4.5,  1.6],\n",
        "        [ 6.7,  3.1,  4.7,  1.5],\n",
        "        [ 6.3,  2.3,  4.4,  1.3],\n",
        "        [ 5.6,  3. ,  4.1,  1.3],\n",
        "        [ 5.5,  2.5,  4. ,  1.3],\n",
        "        [ 5.5,  2.6,  4.4,  1.2],\n",
        "        [ 6.1,  3. ,  4.6,  1.4],\n",
        "        [ 5.8,  2.6,  4. ,  1.2],\n",
        "        [ 5. ,  2.3,  3.3,  1. ],\n",
        "        [ 5.6,  2.7,  4.2,  1.3],\n",
        "        [ 5.7,  3. ,  4.2,  1.2],\n",
        "        [ 5.7,  2.9,  4.2,  1.3],\n",
        "        [ 6.2,  2.9,  4.3,  1.3],\n",
        "        [ 5.1,  2.5,  3. ,  1.1],\n",
        "        [ 5.7,  2.8,  4.1,  1.3],\n",
        "        [ 6.3,  3.3,  6. ,  2.5],\n",
        "        [ 5.8,  2.7,  5.1,  1.9],\n",
        "        [ 7.1,  3. ,  5.9,  2.1],\n",
        "        [ 6.3,  2.9,  5.6,  1.8],\n",
        "        [ 6.5,  3. ,  5.8,  2.2],\n",
        "        [ 7.6,  3. ,  6.6,  2.1],\n",
        "        [ 4.9,  2.5,  4.5,  1.7],\n",
        "        [ 7.3,  2.9,  6.3,  1.8],\n",
        "        [ 6.7,  2.5,  5.8,  1.8],\n",
        "        [ 7.2,  3.6,  6.1,  2.5],\n",
        "        [ 6.5,  3.2,  5.1,  2. ],\n",
        "        [ 6.4,  2.7,  5.3,  1.9],\n",
        "        [ 6.8,  3. ,  5.5,  2.1],\n",
        "        [ 5.7,  2.5,  5. ,  2. ],\n",
        "        [ 5.8,  2.8,  5.1,  2.4],\n",
        "        [ 6.4,  3.2,  5.3,  2.3],\n",
        "        [ 6.5,  3. ,  5.5,  1.8],\n",
        "        [ 7.7,  3.8,  6.7,  2.2],\n",
        "        [ 7.7,  2.6,  6.9,  2.3],\n",
        "        [ 6. ,  2.2,  5. ,  1.5],\n",
        "        [ 6.9,  3.2,  5.7,  2.3],\n",
        "        [ 5.6,  2.8,  4.9,  2. ],\n",
        "        [ 7.7,  2.8,  6.7,  2. ],\n",
        "        [ 6.3,  2.7,  4.9,  1.8],\n",
        "        [ 6.7,  3.3,  5.7,  2.1],\n",
        "        [ 7.2,  3.2,  6. ,  1.8],\n",
        "        [ 6.2,  2.8,  4.8,  1.8],\n",
        "        [ 6.1,  3. ,  4.9,  1.8],\n",
        "        [ 6.4,  2.8,  5.6,  2.1],\n",
        "        [ 7.2,  3. ,  5.8,  1.6],\n",
        "        [ 7.4,  2.8,  6.1,  1.9],\n",
        "        [ 7.9,  3.8,  6.4,  2. ],\n",
        "        [ 6.4,  2.8,  5.6,  2.2],\n",
        "        [ 6.3,  2.8,  5.1,  1.5],\n",
        "        [ 6.1,  2.6,  5.6,  1.4],\n",
        "        [ 7.7,  3. ,  6.1,  2.3],\n",
        "        [ 6.3,  3.4,  5.6,  2.4],\n",
        "        [ 6.4,  3.1,  5.5,  1.8],\n",
        "        [ 6. ,  3. ,  4.8,  1.8],\n",
        "        [ 6.9,  3.1,  5.4,  2.1],\n",
        "        [ 6.7,  3.1,  5.6,  2.4],\n",
        "        [ 6.9,  3.1,  5.1,  2.3],\n",
        "        [ 5.8,  2.7,  5.1,  1.9],\n",
        "        [ 6.8,  3.2,  5.9,  2.3],\n",
        "        [ 6.7,  3.3,  5.7,  2.5],\n",
        "        [ 6.7,  3. ,  5.2,  2.3],\n",
        "        [ 6.3,  2.5,  5. ,  1.9],\n",
        "        [ 6.5,  3. ,  5.2,  2. ],\n",
        "        [ 6.2,  3.4,  5.4,  2.3],\n",
        "        [ 5.9,  3. ,  5.1,  1.8]]),\n",
        " array([0, 0, 0, 0, 0, 0, 0, 0, 0, 0, 0, 0, 0, 0, 0, 0, 0, 0, 0, 0, 0, 0, 0,\n",
        "        0, 0, 0, 0, 0, 0, 0, 0, 0, 0, 0, 0, 0, 0, 0, 0, 0, 0, 0, 0, 0, 0, 0,\n",
        "        0, 0, 0, 0, 1, 1, 1, 1, 1, 1, 1, 1, 1, 1, 1, 1, 1, 1, 1, 1, 1, 1, 1,\n",
        "        1, 1, 1, 1, 1, 1, 1, 1, 1, 1, 1, 1, 1, 1, 1, 1, 1, 1, 1, 1, 1, 1, 1,\n",
        "        1, 1, 1, 1, 1, 1, 1, 1, 2, 2, 2, 2, 2, 2, 2, 2, 2, 2, 2, 2, 2, 2, 2,\n",
        "        2, 2, 2, 2, 2, 2, 2, 2, 2, 2, 2, 2, 2, 2, 2, 2, 2, 2, 2, 2, 2, 2, 2,\n",
        "        2, 2, 2, 2, 2, 2, 2, 2, 2, 2, 2, 2]))"
       ]
      }
     ],
     "prompt_number": 10
    },
    {
     "cell_type": "code",
     "collapsed": false,
     "input": [
      "iris.DESCR\n"
     ],
     "language": "python",
     "metadata": {},
     "outputs": [
      {
       "metadata": {},
       "output_type": "pyout",
       "prompt_number": 2,
       "text": [
        "'Iris Plants Database\\n\\nNotes\\n-----\\nData Set Characteristics:\\n    :Number of Instances: 150 (50 in each of three classes)\\n    :Number of Attributes: 4 numeric, predictive attributes and the class\\n    :Attribute Information:\\n        - sepal length in cm\\n        - sepal width in cm\\n        - petal length in cm\\n        - petal width in cm\\n        - class:\\n                - Iris-Setosa\\n                - Iris-Versicolour\\n                - Iris-Virginica\\n    :Summary Statistics:\\n    ============== ==== ==== ======= ===== ====================\\n                    Min  Max   Mean    SD   Class Correlation\\n    ============== ==== ==== ======= ===== ====================\\n    sepal length:   4.3  7.9   5.84   0.83    0.7826\\n    sepal width:    2.0  4.4   3.05   0.43   -0.4194\\n    petal length:   1.0  6.9   3.76   1.76    0.9490  (high!)\\n    petal width:    0.1  2.5   1.20  0.76     0.9565  (high!)\\n    ============== ==== ==== ======= ===== ====================\\n    :Missing Attribute Values: None\\n    :Class Distribution: 33.3% for each of 3 classes.\\n    :Creator: R.A. Fisher\\n    :Donor: Michael Marshall (MARSHALL%PLU@io.arc.nasa.gov)\\n    :Date: July, 1988\\n\\nThis is a copy of UCI ML iris datasets.\\nhttp://archive.ics.uci.edu/ml/datasets/Iris\\n\\nThe famous Iris database, first used by Sir R.A Fisher\\n\\nThis is perhaps the best known database to be found in the\\npattern recognition literature.  Fisher\\'s paper is a classic in the field and\\nis referenced frequently to this day.  (See Duda & Hart, for example.)  The\\ndata set contains 3 classes of 50 instances each, where each class refers to a\\ntype of iris plant.  One class is linearly separable from the other 2; the\\nlatter are NOT linearly separable from each other.\\n\\nReferences\\n----------\\n   - Fisher,R.A. \"The use of multiple measurements in taxonomic problems\"\\n     Annual Eugenics, 7, Part II, 179-188 (1936); also in \"Contributions to\\n     Mathematical Statistics\" (John Wiley, NY, 1950).\\n   - Duda,R.O., & Hart,P.E. (1973) Pattern Classification and Scene Analysis.\\n     (Q327.D83) John Wiley & Sons.  ISBN 0-471-22361-1.  See page 218.\\n   - Dasarathy, B.V. (1980) \"Nosing Around the Neighborhood: A New System\\n     Structure and Classification Rule for Recognition in Partially Exposed\\n     Environments\".  IEEE Transactions on Pattern Analysis and Machine\\n     Intelligence, Vol. PAMI-2, No. 1, 67-71.\\n   - Gates, G.W. (1972) \"The Reduced Nearest Neighbor Rule\".  IEEE Transactions\\n     on Information Theory, May 1972, 431-433.\\n   - See also: 1988 MLC Proceedings, 54-64.  Cheeseman et al\"s AUTOCLASS II\\n     conceptual clustering system finds 3 classes in the data.\\n   - Many, many more ...\\n'"
       ]
      }
     ],
     "prompt_number": 2
    },
    {
     "cell_type": "code",
     "collapsed": false,
     "input": [
      "X, y = X_iris[:, :2], y_iris#Tomamos dos caracteristicas\n",
      "X, y"
     ],
     "language": "python",
     "metadata": {},
     "outputs": [
      {
       "metadata": {},
       "output_type": "pyout",
       "prompt_number": 15,
       "text": [
        "(array([[ 5.1,  3.5],\n",
        "        [ 4.9,  3. ],\n",
        "        [ 4.7,  3.2],\n",
        "        [ 4.6,  3.1],\n",
        "        [ 5. ,  3.6],\n",
        "        [ 5.4,  3.9],\n",
        "        [ 4.6,  3.4],\n",
        "        [ 5. ,  3.4],\n",
        "        [ 4.4,  2.9],\n",
        "        [ 4.9,  3.1],\n",
        "        [ 5.4,  3.7],\n",
        "        [ 4.8,  3.4],\n",
        "        [ 4.8,  3. ],\n",
        "        [ 4.3,  3. ],\n",
        "        [ 5.8,  4. ],\n",
        "        [ 5.7,  4.4],\n",
        "        [ 5.4,  3.9],\n",
        "        [ 5.1,  3.5],\n",
        "        [ 5.7,  3.8],\n",
        "        [ 5.1,  3.8],\n",
        "        [ 5.4,  3.4],\n",
        "        [ 5.1,  3.7],\n",
        "        [ 4.6,  3.6],\n",
        "        [ 5.1,  3.3],\n",
        "        [ 4.8,  3.4],\n",
        "        [ 5. ,  3. ],\n",
        "        [ 5. ,  3.4],\n",
        "        [ 5.2,  3.5],\n",
        "        [ 5.2,  3.4],\n",
        "        [ 4.7,  3.2],\n",
        "        [ 4.8,  3.1],\n",
        "        [ 5.4,  3.4],\n",
        "        [ 5.2,  4.1],\n",
        "        [ 5.5,  4.2],\n",
        "        [ 4.9,  3.1],\n",
        "        [ 5. ,  3.2],\n",
        "        [ 5.5,  3.5],\n",
        "        [ 4.9,  3.1],\n",
        "        [ 4.4,  3. ],\n",
        "        [ 5.1,  3.4],\n",
        "        [ 5. ,  3.5],\n",
        "        [ 4.5,  2.3],\n",
        "        [ 4.4,  3.2],\n",
        "        [ 5. ,  3.5],\n",
        "        [ 5.1,  3.8],\n",
        "        [ 4.8,  3. ],\n",
        "        [ 5.1,  3.8],\n",
        "        [ 4.6,  3.2],\n",
        "        [ 5.3,  3.7],\n",
        "        [ 5. ,  3.3],\n",
        "        [ 7. ,  3.2],\n",
        "        [ 6.4,  3.2],\n",
        "        [ 6.9,  3.1],\n",
        "        [ 5.5,  2.3],\n",
        "        [ 6.5,  2.8],\n",
        "        [ 5.7,  2.8],\n",
        "        [ 6.3,  3.3],\n",
        "        [ 4.9,  2.4],\n",
        "        [ 6.6,  2.9],\n",
        "        [ 5.2,  2.7],\n",
        "        [ 5. ,  2. ],\n",
        "        [ 5.9,  3. ],\n",
        "        [ 6. ,  2.2],\n",
        "        [ 6.1,  2.9],\n",
        "        [ 5.6,  2.9],\n",
        "        [ 6.7,  3.1],\n",
        "        [ 5.6,  3. ],\n",
        "        [ 5.8,  2.7],\n",
        "        [ 6.2,  2.2],\n",
        "        [ 5.6,  2.5],\n",
        "        [ 5.9,  3.2],\n",
        "        [ 6.1,  2.8],\n",
        "        [ 6.3,  2.5],\n",
        "        [ 6.1,  2.8],\n",
        "        [ 6.4,  2.9],\n",
        "        [ 6.6,  3. ],\n",
        "        [ 6.8,  2.8],\n",
        "        [ 6.7,  3. ],\n",
        "        [ 6. ,  2.9],\n",
        "        [ 5.7,  2.6],\n",
        "        [ 5.5,  2.4],\n",
        "        [ 5.5,  2.4],\n",
        "        [ 5.8,  2.7],\n",
        "        [ 6. ,  2.7],\n",
        "        [ 5.4,  3. ],\n",
        "        [ 6. ,  3.4],\n",
        "        [ 6.7,  3.1],\n",
        "        [ 6.3,  2.3],\n",
        "        [ 5.6,  3. ],\n",
        "        [ 5.5,  2.5],\n",
        "        [ 5.5,  2.6],\n",
        "        [ 6.1,  3. ],\n",
        "        [ 5.8,  2.6],\n",
        "        [ 5. ,  2.3],\n",
        "        [ 5.6,  2.7],\n",
        "        [ 5.7,  3. ],\n",
        "        [ 5.7,  2.9],\n",
        "        [ 6.2,  2.9],\n",
        "        [ 5.1,  2.5],\n",
        "        [ 5.7,  2.8],\n",
        "        [ 6.3,  3.3],\n",
        "        [ 5.8,  2.7],\n",
        "        [ 7.1,  3. ],\n",
        "        [ 6.3,  2.9],\n",
        "        [ 6.5,  3. ],\n",
        "        [ 7.6,  3. ],\n",
        "        [ 4.9,  2.5],\n",
        "        [ 7.3,  2.9],\n",
        "        [ 6.7,  2.5],\n",
        "        [ 7.2,  3.6],\n",
        "        [ 6.5,  3.2],\n",
        "        [ 6.4,  2.7],\n",
        "        [ 6.8,  3. ],\n",
        "        [ 5.7,  2.5],\n",
        "        [ 5.8,  2.8],\n",
        "        [ 6.4,  3.2],\n",
        "        [ 6.5,  3. ],\n",
        "        [ 7.7,  3.8],\n",
        "        [ 7.7,  2.6],\n",
        "        [ 6. ,  2.2],\n",
        "        [ 6.9,  3.2],\n",
        "        [ 5.6,  2.8],\n",
        "        [ 7.7,  2.8],\n",
        "        [ 6.3,  2.7],\n",
        "        [ 6.7,  3.3],\n",
        "        [ 7.2,  3.2],\n",
        "        [ 6.2,  2.8],\n",
        "        [ 6.1,  3. ],\n",
        "        [ 6.4,  2.8],\n",
        "        [ 7.2,  3. ],\n",
        "        [ 7.4,  2.8],\n",
        "        [ 7.9,  3.8],\n",
        "        [ 6.4,  2.8],\n",
        "        [ 6.3,  2.8],\n",
        "        [ 6.1,  2.6],\n",
        "        [ 7.7,  3. ],\n",
        "        [ 6.3,  3.4],\n",
        "        [ 6.4,  3.1],\n",
        "        [ 6. ,  3. ],\n",
        "        [ 6.9,  3.1],\n",
        "        [ 6.7,  3.1],\n",
        "        [ 6.9,  3.1],\n",
        "        [ 5.8,  2.7],\n",
        "        [ 6.8,  3.2],\n",
        "        [ 6.7,  3.3],\n",
        "        [ 6.7,  3. ],\n",
        "        [ 6.3,  2.5],\n",
        "        [ 6.5,  3. ],\n",
        "        [ 6.2,  3.4],\n",
        "        [ 5.9,  3. ]]),\n",
        " array([0, 0, 0, 0, 0, 0, 0, 0, 0, 0, 0, 0, 0, 0, 0, 0, 0, 0, 0, 0, 0, 0, 0,\n",
        "        0, 0, 0, 0, 0, 0, 0, 0, 0, 0, 0, 0, 0, 0, 0, 0, 0, 0, 0, 0, 0, 0, 0,\n",
        "        0, 0, 0, 0, 1, 1, 1, 1, 1, 1, 1, 1, 1, 1, 1, 1, 1, 1, 1, 1, 1, 1, 1,\n",
        "        1, 1, 1, 1, 1, 1, 1, 1, 1, 1, 1, 1, 1, 1, 1, 1, 1, 1, 1, 1, 1, 1, 1,\n",
        "        1, 1, 1, 1, 1, 1, 1, 1, 2, 2, 2, 2, 2, 2, 2, 2, 2, 2, 2, 2, 2, 2, 2,\n",
        "        2, 2, 2, 2, 2, 2, 2, 2, 2, 2, 2, 2, 2, 2, 2, 2, 2, 2, 2, 2, 2, 2, 2,\n",
        "        2, 2, 2, 2, 2, 2, 2, 2, 2, 2, 2, 2]))"
       ]
      }
     ],
     "prompt_number": 15
    },
    {
     "cell_type": "code",
     "collapsed": false,
     "input": [
      "from sklearn.cross_validation import train_test_split\n",
      "from sklearn import preprocessing\n",
      "X_train, X_test, y_train, y_test = train_test_split(X, y, test_size=0.25, random_state=33)#Generamos conjunto de entrenamiento aleatoriamente\n",
      "X_train.shape, y_train.shape#75% entrenamiento, ie 25% de validaci\u00f3n"
     ],
     "language": "python",
     "metadata": {},
     "outputs": [
      {
       "metadata": {},
       "output_type": "pyout",
       "prompt_number": 12,
       "text": [
        "((112, 2), (112,))"
       ]
      }
     ],
     "prompt_number": 12
    },
    {
     "cell_type": "markdown",
     "metadata": {},
     "source": [
      "modify the training set in a process usually called feature scaling. For each feature, calculate the average, subtract the mean value from the feature value, and divide the result by their standard deviation. After scaling, each feature will have a zero average, with a standard deviation of one. This standardization of values (which does not change their distribution, as you could\n",
      "verify by plotting the X values before and after scaling) is a common requirement of machine learning methods, to avoid that features with large values may weight too much on the final results."
     ]
    },
    {
     "cell_type": "code",
     "collapsed": false,
     "input": [
      "#Aplicamos feature scaling\n",
      "scaler = preprocessing.StandardScaler().fit(X_train)\n",
      "X_train = scaler.transform(X_train)\n",
      "X_test = scaler.transform(X_test)"
     ],
     "language": "python",
     "metadata": {},
     "outputs": [],
     "prompt_number": 13
    },
    {
     "cell_type": "code",
     "collapsed": false,
     "input": [
      "import matplotlib.pyplot as plt\n",
      "colors = ['red', 'greenyellow', 'blue']\n",
      "\n",
      "for i in xrange(len(colors)):\n",
      "    xs = X_train[:, 0][y_train == i]\n",
      "    ys = X_train[:, 1][y_train == i]\n",
      "    plt.scatter(xs, ys, c=colors[i])#hace plot de la primera caracteristica y le asigna un color de acuerdo a y\n",
      "plt.legend(iris.target_names)\n",
      "plt.xlabel('Sepal length')\n",
      "plt.ylabel('Sepal width')\n",
      "plt.show()"
     ],
     "language": "python",
     "metadata": {},
     "outputs": [],
     "prompt_number": 16
    },
    {
     "cell_type": "heading",
     "level": 1,
     "metadata": {},
     "source": [
      "Stochastic Gradient Descent"
     ]
    },
    {
     "cell_type": "code",
     "collapsed": false,
     "input": [
      "from sklearn.linear_model import SGDClassifier\n",
      "clf = SGDClassifier()#creacion\n",
      "clf.fit(X_train, y_train)#Recibe training data y training clases y contruye el clasificador\n",
      "#Todos los metodos de scikit learn de supervisado lo implementan"
     ],
     "language": "python",
     "metadata": {},
     "outputs": [
      {
       "metadata": {},
       "output_type": "pyout",
       "prompt_number": 7,
       "text": [
        "SGDClassifier(alpha=0.0001, average=False, class_weight=None, epsilon=0.1,\n",
        "       eta0=0.0, fit_intercept=True, l1_ratio=0.15,\n",
        "       learning_rate='optimal', loss='hinge', n_iter=5, n_jobs=1,\n",
        "       penalty='l2', power_t=0.5, random_state=None, shuffle=True,\n",
        "       verbose=0, warm_start=False)"
       ]
      }
     ],
     "prompt_number": 7
    },
    {
     "cell_type": "code",
     "collapsed": false,
     "input": [
      "print clf.coef_ #the coefficients of the linear boundary\n",
      "print clf.intercept_#the point of intersection of the line with the y axis\n"
     ],
     "language": "python",
     "metadata": {},
     "outputs": [
      {
       "output_type": "stream",
       "stream": "stdout",
       "text": [
        "[[-35.89589744   3.46434887]\n",
        " [  9.68936349 -17.63668516]\n",
        " [ 18.75317741  -3.46434887]]\n",
        "[-10.5148905   -2.82783565   3.04944358]\n"
       ]
      }
     ],
     "prompt_number": 17
    },
    {
     "cell_type": "heading",
     "level": 3,
     "metadata": {},
     "source": [
      "Podemos trazar en el plano real con estos tres valores ( clf.intercept_) representada por clf.intercept_[0] + clf.intercept_[1]*x1 + clf.intercept_[2]*x2 = 0\n",
      "x1 y x2 sera nuestras caracteristicas, por lo que ahora solo tendremos que calcular el lado izquierdo de la ecuaci\u00f3n y si es mayor a cero querra decir que se encuentra por encima del boundary decision, de lo contrario estara por debajo"
     ]
    },
    {
     "cell_type": "heading",
     "level": 1,
     "metadata": {},
     "source": [
      "Muestra las 3 boundary decision"
     ]
    },
    {
     "cell_type": "code",
     "collapsed": false,
     "input": [
      "x_min, x_max = X_train[:, 0].min() - .5, X_train[:, 0].max() + .5\n",
      "y_min, y_max = X_train[:, 1].min() - .5, X_train[:, 1].max() + .5\n",
      "import numpy as np\n",
      "xs = np.arange(x_min, x_max, 0.5)\n",
      "fig, axes = plt.subplots(1, 3)\n",
      "fig.set_size_inches(10, 6)\n",
      "for i in [0, 1, 2]:\n",
      "    axes[i].set_aspect('equal')\n",
      "    axes[i].set_title('Class '+ str(i) + ' versus the rest')\n",
      "    axes[i].set_xlabel('Sepal length')\n",
      "    axes[i].set_ylabel('Sepal width')\n",
      "    axes[i].set_xlim(x_min, x_max)\n",
      "    axes[i].set_ylim(y_min, y_max)\n",
      "    #sca(axes[i])\n",
      "    plt.scatter(X_train[:, 0], X_train[:, 1], c=y_train, cmap=plt.cm.prism)\n",
      "    ys = (-clf.intercept_[i] - xs * clf.coef_[i, 0]) / clf.coef_[i, 1]\n",
      "    plt.plot(xs, ys, hold=True)\n",
      "plt.show()"
     ],
     "language": "python",
     "metadata": {},
     "outputs": [],
     "prompt_number": 18
    },
    {
     "cell_type": "code",
     "collapsed": false,
     "input": [
      "print clf.predict(scaler.transform([[4.7, 3.1]]))#Normalizamos (transform) y predecimos el nuevo ejemplar\n",
      "print clf.predict(X_test)\n",
      "#recordemos que solo tenemos tres clases (0,1,2)"
     ],
     "language": "python",
     "metadata": {},
     "outputs": [
      {
       "output_type": "stream",
       "stream": "stdout",
       "text": [
        "[0]\n",
        "[2 2 0 2 2 2 0 0 2 2 2 0 2 2 2 2 2 0 2 2 0 0 2 0 2 2 2 2 2 2 2 2 2 2 2 2 2\n",
        " 2]\n"
       ]
      }
     ],
     "prompt_number": 74
    },
    {
     "cell_type": "code",
     "collapsed": false,
     "input": [
      "print clf.decision_function(scaler.transform([[4.7, 3.1]]))#Revisamos la calificaci\u00f3n a cada clase\n",
      "print type(clf.decision_function(X_test))"
     ],
     "language": "python",
     "metadata": {},
     "outputs": [
      {
       "output_type": "stream",
       "stream": "stdout",
       "text": [
        "[[ 30.22229708 -22.43150853 -27.3795926 ]]\n",
        "<type 'numpy.ndarray'>\n"
       ]
      }
     ],
     "prompt_number": 76
    },
    {
     "cell_type": "heading",
     "level": 1,
     "metadata": {},
     "source": [
      "Evaluaci\u00f3n de los resultados"
     ]
    },
    {
     "cell_type": "code",
     "collapsed": false,
     "input": [
      "from sklearn import metrics\n",
      "y_train_pred = clf.predict(X_train)\n",
      "print metrics.accuracy_score(y_train, y_train_pred)#Medimos la proporsi\u00f3n de ejemplares correctamente clasificados"
     ],
     "language": "python",
     "metadata": {},
     "outputs": [
      {
       "output_type": "stream",
       "stream": "stdout",
       "text": [
        "0.803571428571\n"
       ]
      }
     ],
     "prompt_number": 53
    },
    {
     "cell_type": "heading",
     "level": 3,
     "metadata": {},
     "source": [
      "Importante recordar que nunca es bueno evaluar con el conjunto de entrenamiento, porque es posible que se ajuste bien el modelo al conjunto de entrenamiento pero no a datos no vistos (overfitting)"
     ]
    },
    {
     "cell_type": "code",
     "collapsed": false,
     "input": [
      "y_pred = clf.predict(X_test)\n",
      "print metrics.accuracy_score(y_test, y_pred)#Evaluemos con datos no vistos\n"
     ],
     "language": "python",
     "metadata": {},
     "outputs": [
      {
       "output_type": "stream",
       "stream": "stdout",
       "text": [
        "0.736842105263\n"
       ]
      }
     ],
     "prompt_number": 54
    },
    {
     "cell_type": "markdown",
     "metadata": {},
     "source": [
      "Normalmente la precisi\u00f3n disminuye con los datos test a con los datos de entrenamiento\n",
      "Es importante recordar que para tener un buen desempe\u00f1o es importante tener numero similar de ejemplares de cada clase "
     ]
    },
    {
     "cell_type": "code",
     "collapsed": false,
     "input": [
      "print metrics.confusion_matrix(y_test, y_pred)#matriz confusion, \n",
      "#se deben de concentrar los valores en la posicion de la columna dado el rengl\u00f3n, es decir tener una matriz con los valores mas grandes en la diagonal"
     ],
     "language": "python",
     "metadata": {},
     "outputs": [
      {
       "output_type": "stream",
       "stream": "stdout",
       "text": [
        "[[ 8  0  0]\n",
        " [ 0  8  3]\n",
        " [ 0  7 12]]\n"
       ]
      }
     ],
     "prompt_number": 55
    },
    {
     "cell_type": "heading",
     "level": 1,
     "metadata": {},
     "source": [
      "Validaci\u00f3n Cruzada"
     ]
    },
    {
     "cell_type": "code",
     "collapsed": false,
     "input": [
      "from sklearn.cross_validation import cross_val_score, KFold\n",
      "from sklearn.pipeline import Pipeline\n",
      "from sklearn.preprocessing import StandardScaler\n",
      "# create a composite estimator made by a pipeline of the standarization and the linear model\n",
      "clf = Pipeline([\n",
      "('scaler', StandardScaler()),\n",
      "('linear_model', SGDClassifier())\n",
      "])\n",
      "# create a k-fold cross validation iterator of k=5 folds\n",
      "cv = KFold(X.shape[0], 5, shuffle=True, random_state=33)\n",
      "# by default the score used is the one returned by score method of the estimator (accuracy)\n",
      "scores = cross_val_score(clf, X, y, cv=cv)\n",
      "print scores"
     ],
     "language": "python",
     "metadata": {},
     "outputs": [
      {
       "output_type": "stream",
       "stream": "stdout",
       "text": [
        "[ 0.7         0.63333333  0.66666667  0.9         0.8       ]\n"
       ]
      }
     ],
     "prompt_number": 58
    },
    {
     "cell_type": "markdown",
     "metadata": {},
     "source": [
      "Obtenemos un arreglo de tama\u00f1o k, con las puntuaciones"
     ]
    },
    {
     "cell_type": "heading",
     "level": 2,
     "metadata": {},
     "source": [
      "Calculando la media y el error standard"
     ]
    },
    {
     "cell_type": "code",
     "collapsed": false,
     "input": [
      "from scipy.stats import sem\n",
      "def mean_score(scores):\n",
      "    return (\"Mean score: {0:.3f} (+/-{1:.3f})\").format(np.mean(scores), sem(scores))\n",
      "print mean_score(scores)"
     ],
     "language": "python",
     "metadata": {},
     "outputs": [
      {
       "output_type": "stream",
       "stream": "stdout",
       "text": [
        "Mean score: 0.740 (+/-0.049)\n"
       ]
      }
     ],
     "prompt_number": 60
    }
   ],
   "metadata": {}
  }
 ]
} 
